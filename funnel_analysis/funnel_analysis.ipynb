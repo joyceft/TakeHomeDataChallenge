{
 "cells": [
  {
   "cell_type": "markdown",
   "metadata": {},
   "source": [
    "# Funnel Analysis\n",
    "## Goal\n",
    "Perform **funnel analysis** for an e-commerce website.\n",
    "\n",
    "Typically, websites have a clear path of conversion: for most cases, user first land on the home page(may through various kinds of channels:ogranic search, email, google, etc), then do the search or browse the items/service provided at homepage, then select the item and purchase it. While the entire process may not be done by once or a single period of time, it might takes users several days, repeating some steps several times, before they eventually place the order. During each step, there are users drop off and leave the site. The sequence of pages that lead to conversion is called 'funnel'.\n",
    "\n",
    "**Funnel Analysis** allows us to understand where/when and what kind of users leave the websites, which gives crucial insights on our user behavior analysis, thus providing recommendations and solutions to improve user experience and increase the conversion rate.\n",
    "\n",
    "## Problem Description\n",
    "One website has only 4 pages: homepage, search page, payment page, confirmation page. The CEO wants to improve the conversion rate and asked you to investigate whether there is sth wrong in the conversion funnel. In general, she is interested in:\n",
    "* A full picture of funnel conversion rate for both desktop and mobile\n",
    "* Some insights on what the product team should focus on to improve the conversion rate, or anything else.\n",
    "### 1.Load in data"
   ]
  },
  {
   "cell_type": "code",
   "execution_count": 226,
   "metadata": {},
   "outputs": [],
   "source": [
    "import numpy as np\n",
    "import pandas as pd\n",
    "import matplotlib.pyplot as plt\n",
    "plt.style.use('ggplot')\n",
    "%matplotlib inline\n",
    "from os import listdir\n",
    "import datetime as dt"
   ]
  },
  {
   "cell_type": "code",
   "execution_count": 14,
   "metadata": {},
   "outputs": [],
   "source": [
    "#four page\n",
    "home_df = pd.read_csv('home_page_table.txt', sep = ',', header = 0)\n",
    "search_df = pd.read_csv('search_page_table.txt', sep = ',', header = 0)#45200\n",
    "payment_df = pd.read_csv('payment_page_table.txt', sep = ',', header = 0)#6030\n",
    "confirm_df = pd.read_csv('payment_confirmation_table.txt', sep = ',', header = 0)#452"
   ]
  },
  {
   "cell_type": "code",
   "execution_count": 15,
   "metadata": {},
   "outputs": [
    {
     "name": "stdout",
     "output_type": "stream",
     "text": [
      "home table    user_id       page\n",
      "0   313593  home_page\n",
      "1   468315  home_page\n",
      "2   264005  home_page how many 90400\n",
      "search table    user_id         page\n",
      "0    15866  search_page\n",
      "1   347058  search_page\n",
      "2   577020  search_page how many 45200\n",
      "payment table    user_id          page\n",
      "0   253019  payment_page\n",
      "1   310478  payment_page\n",
      "2   304081  payment_page how many 6030\n",
      "confirm table    user_id                       page\n",
      "0   123100  payment_confirmation_page\n",
      "1   704999  payment_confirmation_page\n",
      "2   407188  payment_confirmation_page how many 452\n"
     ]
    }
   ],
   "source": [
    "print('home table', home_df.head(3), 'how many', home_df.shape[0])\n",
    "print('search table', search_df.head(3), 'how many', search_df.shape[0])\n",
    "print('payment table', payment_df.head(3),'how many', payment_df.shape[0])\n",
    "print('confirm table', confirm_df.head(3),'how many', confirm_df.shape[0])"
   ]
  },
  {
   "cell_type": "code",
   "execution_count": 52,
   "metadata": {},
   "outputs": [],
   "source": [
    "#get the final page\n",
    "page_df = home_df.copy()\n",
    "page_df.loc[search_df.index, 'page'] = search_df.page\n",
    "page_df.loc[payment_df.index, 'page'] = payment_df.page\n",
    "page_df.loc[confirm_df.index, 'page'] = confirm_df.page\n",
    "page_df.rename(columns = {'page' :'final_page'}, inplace= True)"
   ]
  },
  {
   "cell_type": "code",
   "execution_count": 58,
   "metadata": {},
   "outputs": [
    {
     "data": {
      "text/html": [
       "<div>\n",
       "<style scoped>\n",
       "    .dataframe tbody tr th:only-of-type {\n",
       "        vertical-align: middle;\n",
       "    }\n",
       "\n",
       "    .dataframe tbody tr th {\n",
       "        vertical-align: top;\n",
       "    }\n",
       "\n",
       "    .dataframe thead th {\n",
       "        text-align: right;\n",
       "    }\n",
       "</style>\n",
       "<table border=\"1\" class=\"dataframe\">\n",
       "  <thead>\n",
       "    <tr style=\"text-align: right;\">\n",
       "      <th></th>\n",
       "      <th>user_id</th>\n",
       "      <th>final_page</th>\n",
       "    </tr>\n",
       "  </thead>\n",
       "  <tbody>\n",
       "    <tr>\n",
       "      <th>71784</th>\n",
       "      <td>505319</td>\n",
       "      <td>home_page</td>\n",
       "    </tr>\n",
       "    <tr>\n",
       "      <th>12566</th>\n",
       "      <td>460013</td>\n",
       "      <td>search_page</td>\n",
       "    </tr>\n",
       "    <tr>\n",
       "      <th>1954</th>\n",
       "      <td>682753</td>\n",
       "      <td>payment_page</td>\n",
       "    </tr>\n",
       "    <tr>\n",
       "      <th>64618</th>\n",
       "      <td>664569</td>\n",
       "      <td>home_page</td>\n",
       "    </tr>\n",
       "    <tr>\n",
       "      <th>62509</th>\n",
       "      <td>463583</td>\n",
       "      <td>home_page</td>\n",
       "    </tr>\n",
       "    <tr>\n",
       "      <th>46731</th>\n",
       "      <td>574941</td>\n",
       "      <td>home_page</td>\n",
       "    </tr>\n",
       "    <tr>\n",
       "      <th>13610</th>\n",
       "      <td>848989</td>\n",
       "      <td>search_page</td>\n",
       "    </tr>\n",
       "    <tr>\n",
       "      <th>9719</th>\n",
       "      <td>983025</td>\n",
       "      <td>search_page</td>\n",
       "    </tr>\n",
       "    <tr>\n",
       "      <th>73604</th>\n",
       "      <td>914281</td>\n",
       "      <td>home_page</td>\n",
       "    </tr>\n",
       "    <tr>\n",
       "      <th>35572</th>\n",
       "      <td>316580</td>\n",
       "      <td>search_page</td>\n",
       "    </tr>\n",
       "  </tbody>\n",
       "</table>\n",
       "</div>"
      ],
      "text/plain": [
       "       user_id    final_page\n",
       "71784   505319     home_page\n",
       "12566   460013   search_page\n",
       "1954    682753  payment_page\n",
       "64618   664569     home_page\n",
       "62509   463583     home_page\n",
       "46731   574941     home_page\n",
       "13610   848989   search_page\n",
       "9719    983025   search_page\n",
       "73604   914281     home_page\n",
       "35572   316580   search_page"
      ]
     },
     "execution_count": 58,
     "metadata": {},
     "output_type": "execute_result"
    }
   ],
   "source": [
    "page_df.sample(10)"
   ]
  },
  {
   "cell_type": "code",
   "execution_count": 18,
   "metadata": {},
   "outputs": [],
   "source": [
    "#user information\n",
    "user_df = pd.read_csv('user_table.txt', sep = ',', header= 0)"
   ]
  },
  {
   "cell_type": "code",
   "execution_count": 19,
   "metadata": {},
   "outputs": [
    {
     "name": "stdout",
     "output_type": "stream",
     "text": [
      "user table    user_id        date   device     sex\n",
      "0   450007  2015-02-28  Desktop  Female\n",
      "1   756838  2015-01-13  Desktop    Male\n",
      "2   568983  2015-04-09  Desktop    Male how many 90400\n"
     ]
    }
   ],
   "source": [
    "print('user table', user_df.head(3),'how many', user_df.shape[0])"
   ]
  },
  {
   "cell_type": "code",
   "execution_count": 152,
   "metadata": {},
   "outputs": [],
   "source": [
    "#merge page information into user table, \n",
    "# 1.final page\n",
    "#user_page_df = user_df.merge(page_df, on = 'user_id', how = 'left')\n",
    "# 2. all pages\n",
    "user_page = user_df.merge(search_df.rename(columns = {'page':'search_page'}), on = 'user_id', how = 'left').merge(payment_df.rename(columns = {'page':'payment_page'}), on = 'user_id', how = 'left').merge(confirm_df.rename(columns = {'page':'confirm_page'}), on = 'user_id', how = 'left')"
   ]
  },
  {
   "cell_type": "code",
   "execution_count": 60,
   "metadata": {},
   "outputs": [
    {
     "data": {
      "text/html": [
       "<div>\n",
       "<style scoped>\n",
       "    .dataframe tbody tr th:only-of-type {\n",
       "        vertical-align: middle;\n",
       "    }\n",
       "\n",
       "    .dataframe tbody tr th {\n",
       "        vertical-align: top;\n",
       "    }\n",
       "\n",
       "    .dataframe thead th {\n",
       "        text-align: right;\n",
       "    }\n",
       "</style>\n",
       "<table border=\"1\" class=\"dataframe\">\n",
       "  <thead>\n",
       "    <tr style=\"text-align: right;\">\n",
       "      <th></th>\n",
       "      <th>user_id</th>\n",
       "      <th>date</th>\n",
       "      <th>device</th>\n",
       "      <th>sex</th>\n",
       "      <th>final_page</th>\n",
       "    </tr>\n",
       "  </thead>\n",
       "  <tbody>\n",
       "    <tr>\n",
       "      <th>61953</th>\n",
       "      <td>854169</td>\n",
       "      <td>2015-04-22</td>\n",
       "      <td>Desktop</td>\n",
       "      <td>Female</td>\n",
       "      <td>home_page</td>\n",
       "    </tr>\n",
       "    <tr>\n",
       "      <th>9702</th>\n",
       "      <td>456631</td>\n",
       "      <td>2015-01-27</td>\n",
       "      <td>Mobile</td>\n",
       "      <td>Female</td>\n",
       "      <td>home_page</td>\n",
       "    </tr>\n",
       "    <tr>\n",
       "      <th>624</th>\n",
       "      <td>787925</td>\n",
       "      <td>2015-02-18</td>\n",
       "      <td>Mobile</td>\n",
       "      <td>Female</td>\n",
       "      <td>home_page</td>\n",
       "    </tr>\n",
       "    <tr>\n",
       "      <th>52272</th>\n",
       "      <td>23637</td>\n",
       "      <td>2015-02-04</td>\n",
       "      <td>Desktop</td>\n",
       "      <td>Male</td>\n",
       "      <td>search_page</td>\n",
       "    </tr>\n",
       "  </tbody>\n",
       "</table>\n",
       "</div>"
      ],
      "text/plain": [
       "       user_id        date   device     sex   final_page\n",
       "61953   854169  2015-04-22  Desktop  Female    home_page\n",
       "9702    456631  2015-01-27   Mobile  Female    home_page\n",
       "624     787925  2015-02-18   Mobile  Female    home_page\n",
       "52272    23637  2015-02-04  Desktop    Male  search_page"
      ]
     },
     "execution_count": 60,
     "metadata": {},
     "output_type": "execute_result"
    }
   ],
   "source": [
    "user_page_df.sample(4)"
   ]
  },
  {
   "cell_type": "code",
   "execution_count": 64,
   "metadata": {},
   "outputs": [
    {
     "data": {
      "text/plain": [
       "user_id                int64\n",
       "date          datetime64[ns]\n",
       "device                object\n",
       "sex                   object\n",
       "final_page            object\n",
       "dtype: object"
      ]
     },
     "execution_count": 64,
     "metadata": {},
     "output_type": "execute_result"
    }
   ],
   "source": [
    "#convert to datetime\n",
    "#user_page_df.date = pd.to_datetime(user_page_df.date)\n",
    "user_page_df.dtypes"
   ]
  },
  {
   "cell_type": "code",
   "execution_count": 154,
   "metadata": {},
   "outputs": [],
   "source": [
    "user_page = user_page.fillna(0)\n",
    "user_page.search_page = np.where(user_page.search_page !=0, 1, 0)\n",
    "user_page.payment_page = np.where(user_page.payment_page !=0, 1, 0)\n",
    "user_page.confirm_page = np.where(user_page.confirm_page !=0, 1, 0)"
   ]
  },
  {
   "cell_type": "code",
   "execution_count": 155,
   "metadata": {},
   "outputs": [
    {
     "data": {
      "text/html": [
       "<div>\n",
       "<style scoped>\n",
       "    .dataframe tbody tr th:only-of-type {\n",
       "        vertical-align: middle;\n",
       "    }\n",
       "\n",
       "    .dataframe tbody tr th {\n",
       "        vertical-align: top;\n",
       "    }\n",
       "\n",
       "    .dataframe thead th {\n",
       "        text-align: right;\n",
       "    }\n",
       "</style>\n",
       "<table border=\"1\" class=\"dataframe\">\n",
       "  <thead>\n",
       "    <tr style=\"text-align: right;\">\n",
       "      <th></th>\n",
       "      <th>user_id</th>\n",
       "      <th>date</th>\n",
       "      <th>device</th>\n",
       "      <th>sex</th>\n",
       "      <th>search_page</th>\n",
       "      <th>payment_page</th>\n",
       "      <th>confirm_page</th>\n",
       "    </tr>\n",
       "  </thead>\n",
       "  <tbody>\n",
       "    <tr>\n",
       "      <th>13909</th>\n",
       "      <td>449273</td>\n",
       "      <td>2015-01-10</td>\n",
       "      <td>Mobile</td>\n",
       "      <td>Male</td>\n",
       "      <td>1</td>\n",
       "      <td>0</td>\n",
       "      <td>0</td>\n",
       "    </tr>\n",
       "    <tr>\n",
       "      <th>10121</th>\n",
       "      <td>546039</td>\n",
       "      <td>2015-02-08</td>\n",
       "      <td>Desktop</td>\n",
       "      <td>Female</td>\n",
       "      <td>1</td>\n",
       "      <td>0</td>\n",
       "      <td>0</td>\n",
       "    </tr>\n",
       "    <tr>\n",
       "      <th>81066</th>\n",
       "      <td>581621</td>\n",
       "      <td>2015-04-03</td>\n",
       "      <td>Desktop</td>\n",
       "      <td>Male</td>\n",
       "      <td>0</td>\n",
       "      <td>0</td>\n",
       "      <td>0</td>\n",
       "    </tr>\n",
       "    <tr>\n",
       "      <th>83622</th>\n",
       "      <td>762479</td>\n",
       "      <td>2015-03-27</td>\n",
       "      <td>Desktop</td>\n",
       "      <td>Female</td>\n",
       "      <td>1</td>\n",
       "      <td>0</td>\n",
       "      <td>0</td>\n",
       "    </tr>\n",
       "    <tr>\n",
       "      <th>44441</th>\n",
       "      <td>731734</td>\n",
       "      <td>2015-01-25</td>\n",
       "      <td>Desktop</td>\n",
       "      <td>Female</td>\n",
       "      <td>1</td>\n",
       "      <td>0</td>\n",
       "      <td>0</td>\n",
       "    </tr>\n",
       "  </tbody>\n",
       "</table>\n",
       "</div>"
      ],
      "text/plain": [
       "       user_id        date   device     sex  search_page  payment_page  \\\n",
       "13909   449273  2015-01-10   Mobile    Male            1             0   \n",
       "10121   546039  2015-02-08  Desktop  Female            1             0   \n",
       "81066   581621  2015-04-03  Desktop    Male            0             0   \n",
       "83622   762479  2015-03-27  Desktop  Female            1             0   \n",
       "44441   731734  2015-01-25  Desktop  Female            1             0   \n",
       "\n",
       "       confirm_page  \n",
       "13909             0  \n",
       "10121             0  \n",
       "81066             0  \n",
       "83622             0  \n",
       "44441             0  "
      ]
     },
     "execution_count": 155,
     "metadata": {},
     "output_type": "execute_result"
    }
   ],
   "source": [
    "user_page.sample(5)"
   ]
  },
  {
   "cell_type": "code",
   "execution_count": 159,
   "metadata": {},
   "outputs": [
    {
     "data": {
      "text/plain": [
       "45200"
      ]
     },
     "execution_count": 159,
     "metadata": {},
     "output_type": "execute_result"
    }
   ],
   "source": [
    "sum(user_page.search_page !=0)"
   ]
  },
  {
   "cell_type": "code",
   "execution_count": 65,
   "metadata": {},
   "outputs": [],
   "source": [
    "#save merged data\n",
    "user_page_df.to_csv('user_page.csv', index_label ='user_id')\n",
    "user_page.to_csv('user_page_total.csv', index_label = 'user_id')"
   ]
  },
  {
   "cell_type": "markdown",
   "metadata": {},
   "source": [
    "### A full picture of funnel conversion rate for both desktop and mobile"
   ]
  },
  {
   "cell_type": "code",
   "execution_count": 165,
   "metadata": {},
   "outputs": [
    {
     "data": {
      "text/plain": [
       "home_page                    45200\n",
       "search_page                  39170\n",
       "payment_page                  5578\n",
       "payment_confirmation_page      452\n",
       "Name: final_page, dtype: int64"
      ]
     },
     "execution_count": 165,
     "metadata": {},
     "output_type": "execute_result"
    }
   ],
   "source": [
    "user_page_df.final_page.value_counts()\n",
    "#event = user_page_df.final_page.value_counts().index\n"
   ]
  },
  {
   "cell_type": "code",
   "execution_count": 170,
   "metadata": {},
   "outputs": [
    {
     "data": {
      "text/plain": [
       "39170"
      ]
     },
     "execution_count": 170,
     "metadata": {},
     "output_type": "execute_result"
    }
   ],
   "source": [
    "user_page_df.final_page.value_counts().loc['search_page']"
   ]
  },
  {
   "cell_type": "code",
   "execution_count": 173,
   "metadata": {},
   "outputs": [],
   "source": [
    "\n",
    "def conversion_rate(df):\n",
    "    event_count = df.final_page.value_counts()\n",
    "    total_n = df.shape[0]\n",
    "    convert_from = event_count.copy()\n",
    "    for page in event_count.index:\n",
    "        #how many people hit to current page\n",
    "        current_n = event_count.loc[page]\n",
    "        #how many people left website at this page\n",
    "        left_n = total_n - current_n\n",
    "        convert_from[page] = left_n\n",
    "        total_n = current_n\n",
    "    \n",
    "    c_rate = pd.concat([event_count, convert_from], axis = 1, keys = ['convert_n', 'drop_n'])\n",
    "    c_rate['conversion_rate'] = c_rate.convert_n.astype(np.float)/(c_rate.drop_n+c_rate.convert_n)\n",
    "    c_rate['drop_rate'] = 1-c_rate.conversion_rate\n",
    "    return c_rate"
   ]
  },
  {
   "cell_type": "code",
   "execution_count": 174,
   "metadata": {},
   "outputs": [
    {
     "data": {
      "text/html": [
       "<div>\n",
       "<style scoped>\n",
       "    .dataframe tbody tr th:only-of-type {\n",
       "        vertical-align: middle;\n",
       "    }\n",
       "\n",
       "    .dataframe tbody tr th {\n",
       "        vertical-align: top;\n",
       "    }\n",
       "\n",
       "    .dataframe thead th {\n",
       "        text-align: right;\n",
       "    }\n",
       "</style>\n",
       "<table border=\"1\" class=\"dataframe\">\n",
       "  <thead>\n",
       "    <tr style=\"text-align: right;\">\n",
       "      <th></th>\n",
       "      <th></th>\n",
       "      <th>convert_n</th>\n",
       "      <th>drop_n</th>\n",
       "      <th>conversion_rate</th>\n",
       "      <th>drop_rate</th>\n",
       "    </tr>\n",
       "    <tr>\n",
       "      <th>device</th>\n",
       "      <th></th>\n",
       "      <th></th>\n",
       "      <th></th>\n",
       "      <th></th>\n",
       "      <th></th>\n",
       "    </tr>\n",
       "  </thead>\n",
       "  <tbody>\n",
       "    <tr>\n",
       "      <th rowspan=\"4\" valign=\"top\">Desktop</th>\n",
       "      <th>home_page</th>\n",
       "      <td>30127</td>\n",
       "      <td>30073</td>\n",
       "      <td>0.500449</td>\n",
       "      <td>0.499551</td>\n",
       "    </tr>\n",
       "    <tr>\n",
       "      <th>search_page</th>\n",
       "      <td>26057</td>\n",
       "      <td>4070</td>\n",
       "      <td>0.864905</td>\n",
       "      <td>0.135095</td>\n",
       "    </tr>\n",
       "    <tr>\n",
       "      <th>payment_page</th>\n",
       "      <td>3717</td>\n",
       "      <td>22340</td>\n",
       "      <td>0.142649</td>\n",
       "      <td>0.857351</td>\n",
       "    </tr>\n",
       "    <tr>\n",
       "      <th>payment_confirmation_page</th>\n",
       "      <td>299</td>\n",
       "      <td>3418</td>\n",
       "      <td>0.080441</td>\n",
       "      <td>0.919559</td>\n",
       "    </tr>\n",
       "    <tr>\n",
       "      <th rowspan=\"4\" valign=\"top\">Mobile</th>\n",
       "      <th>home_page</th>\n",
       "      <td>15073</td>\n",
       "      <td>15127</td>\n",
       "      <td>0.499106</td>\n",
       "      <td>0.500894</td>\n",
       "    </tr>\n",
       "    <tr>\n",
       "      <th>search_page</th>\n",
       "      <td>13113</td>\n",
       "      <td>1960</td>\n",
       "      <td>0.869966</td>\n",
       "      <td>0.130034</td>\n",
       "    </tr>\n",
       "    <tr>\n",
       "      <th>payment_page</th>\n",
       "      <td>1861</td>\n",
       "      <td>11252</td>\n",
       "      <td>0.141920</td>\n",
       "      <td>0.858080</td>\n",
       "    </tr>\n",
       "    <tr>\n",
       "      <th>payment_confirmation_page</th>\n",
       "      <td>153</td>\n",
       "      <td>1708</td>\n",
       "      <td>0.082214</td>\n",
       "      <td>0.917786</td>\n",
       "    </tr>\n",
       "  </tbody>\n",
       "</table>\n",
       "</div>"
      ],
      "text/plain": [
       "                                   convert_n  drop_n  conversion_rate  \\\n",
       "device                                                                  \n",
       "Desktop home_page                      30127   30073         0.500449   \n",
       "        search_page                    26057    4070         0.864905   \n",
       "        payment_page                    3717   22340         0.142649   \n",
       "        payment_confirmation_page        299    3418         0.080441   \n",
       "Mobile  home_page                      15073   15127         0.499106   \n",
       "        search_page                    13113    1960         0.869966   \n",
       "        payment_page                    1861   11252         0.141920   \n",
       "        payment_confirmation_page        153    1708         0.082214   \n",
       "\n",
       "                                   drop_rate  \n",
       "device                                        \n",
       "Desktop home_page                   0.499551  \n",
       "        search_page                 0.135095  \n",
       "        payment_page                0.857351  \n",
       "        payment_confirmation_page   0.919559  \n",
       "Mobile  home_page                   0.500894  \n",
       "        search_page                 0.130034  \n",
       "        payment_page                0.858080  \n",
       "        payment_confirmation_page   0.917786  "
      ]
     },
     "execution_count": 174,
     "metadata": {},
     "output_type": "execute_result"
    }
   ],
   "source": [
    "user_page_df.groupby('device').apply(conversion_rate)"
   ]
  },
  {
   "cell_type": "code",
   "execution_count": 221,
   "metadata": {},
   "outputs": [
    {
     "data": {
      "text/plain": [
       "device                            \n",
       "Desktop  home_page                    0.500449\n",
       "         search_page                  0.432841\n",
       "         payment_page                 0.061744\n",
       "         payment_confirmation_page    0.004967\n",
       "Mobile   home_page                    0.499106\n",
       "         search_page                  0.434205\n",
       "         payment_page                 0.061623\n",
       "         payment_confirmation_page    0.005066\n",
       "Name: final_page, dtype: float64"
      ]
     },
     "execution_count": 221,
     "metadata": {},
     "output_type": "execute_result"
    }
   ],
   "source": [
    "user_page_df.groupby('device')['final_page'].apply(lambda x: x.value_counts(normalize = True))\n"
   ]
  },
  {
   "cell_type": "code",
   "execution_count": 223,
   "metadata": {},
   "outputs": [
    {
     "data": {
      "text/html": [
       "<div>\n",
       "<style scoped>\n",
       "    .dataframe tbody tr th:only-of-type {\n",
       "        vertical-align: middle;\n",
       "    }\n",
       "\n",
       "    .dataframe tbody tr th {\n",
       "        vertical-align: top;\n",
       "    }\n",
       "\n",
       "    .dataframe thead th {\n",
       "        text-align: right;\n",
       "    }\n",
       "</style>\n",
       "<table border=\"1\" class=\"dataframe\">\n",
       "  <thead>\n",
       "    <tr style=\"text-align: right;\">\n",
       "      <th></th>\n",
       "      <th></th>\n",
       "      <th>convert_n</th>\n",
       "      <th>drop_n</th>\n",
       "      <th>conversion_rate</th>\n",
       "      <th>drop_rate</th>\n",
       "    </tr>\n",
       "    <tr>\n",
       "      <th>sex</th>\n",
       "      <th></th>\n",
       "      <th></th>\n",
       "      <th></th>\n",
       "      <th></th>\n",
       "      <th></th>\n",
       "    </tr>\n",
       "  </thead>\n",
       "  <tbody>\n",
       "    <tr>\n",
       "      <th rowspan=\"4\" valign=\"top\">Female</th>\n",
       "      <th>home_page</th>\n",
       "      <td>22589</td>\n",
       "      <td>22486</td>\n",
       "      <td>0.501143</td>\n",
       "      <td>0.498857</td>\n",
       "    </tr>\n",
       "    <tr>\n",
       "      <th>search_page</th>\n",
       "      <td>19470</td>\n",
       "      <td>3119</td>\n",
       "      <td>0.861924</td>\n",
       "      <td>0.138076</td>\n",
       "    </tr>\n",
       "    <tr>\n",
       "      <th>payment_page</th>\n",
       "      <td>2782</td>\n",
       "      <td>16688</td>\n",
       "      <td>0.142886</td>\n",
       "      <td>0.857114</td>\n",
       "    </tr>\n",
       "    <tr>\n",
       "      <th>payment_confirmation_page</th>\n",
       "      <td>234</td>\n",
       "      <td>2548</td>\n",
       "      <td>0.084112</td>\n",
       "      <td>0.915888</td>\n",
       "    </tr>\n",
       "    <tr>\n",
       "      <th rowspan=\"4\" valign=\"top\">Male</th>\n",
       "      <th>home_page</th>\n",
       "      <td>22611</td>\n",
       "      <td>22714</td>\n",
       "      <td>0.498864</td>\n",
       "      <td>0.501136</td>\n",
       "    </tr>\n",
       "    <tr>\n",
       "      <th>search_page</th>\n",
       "      <td>19700</td>\n",
       "      <td>2911</td>\n",
       "      <td>0.871257</td>\n",
       "      <td>0.128743</td>\n",
       "    </tr>\n",
       "    <tr>\n",
       "      <th>payment_page</th>\n",
       "      <td>2796</td>\n",
       "      <td>16904</td>\n",
       "      <td>0.141929</td>\n",
       "      <td>0.858071</td>\n",
       "    </tr>\n",
       "    <tr>\n",
       "      <th>payment_confirmation_page</th>\n",
       "      <td>218</td>\n",
       "      <td>2578</td>\n",
       "      <td>0.077969</td>\n",
       "      <td>0.922031</td>\n",
       "    </tr>\n",
       "  </tbody>\n",
       "</table>\n",
       "</div>"
      ],
      "text/plain": [
       "                                  convert_n  drop_n  conversion_rate  \\\n",
       "sex                                                                    \n",
       "Female home_page                      22589   22486         0.501143   \n",
       "       search_page                    19470    3119         0.861924   \n",
       "       payment_page                    2782   16688         0.142886   \n",
       "       payment_confirmation_page        234    2548         0.084112   \n",
       "Male   home_page                      22611   22714         0.498864   \n",
       "       search_page                    19700    2911         0.871257   \n",
       "       payment_page                    2796   16904         0.141929   \n",
       "       payment_confirmation_page        218    2578         0.077969   \n",
       "\n",
       "                                  drop_rate  \n",
       "sex                                          \n",
       "Female home_page                   0.498857  \n",
       "       search_page                 0.138076  \n",
       "       payment_page                0.857114  \n",
       "       payment_confirmation_page   0.915888  \n",
       "Male   home_page                   0.501136  \n",
       "       search_page                 0.128743  \n",
       "       payment_page                0.858071  \n",
       "       payment_confirmation_page   0.922031  "
      ]
     },
     "execution_count": 223,
     "metadata": {},
     "output_type": "execute_result"
    }
   ],
   "source": [
    "user_page_df.groupby('sex').apply(conversion_rate)"
   ]
  },
  {
   "cell_type": "code",
   "execution_count": 176,
   "metadata": {},
   "outputs": [
    {
     "data": {
      "text/html": [
       "<div>\n",
       "<style scoped>\n",
       "    .dataframe tbody tr th:only-of-type {\n",
       "        vertical-align: middle;\n",
       "    }\n",
       "\n",
       "    .dataframe tbody tr th {\n",
       "        vertical-align: top;\n",
       "    }\n",
       "\n",
       "    .dataframe thead th {\n",
       "        text-align: right;\n",
       "    }\n",
       "</style>\n",
       "<table border=\"1\" class=\"dataframe\">\n",
       "  <thead>\n",
       "    <tr style=\"text-align: right;\">\n",
       "      <th></th>\n",
       "      <th></th>\n",
       "      <th>convert_n</th>\n",
       "      <th>drop_n</th>\n",
       "      <th>conversion_rate</th>\n",
       "      <th>drop_rate</th>\n",
       "    </tr>\n",
       "    <tr>\n",
       "      <th>sex</th>\n",
       "      <th></th>\n",
       "      <th></th>\n",
       "      <th></th>\n",
       "      <th></th>\n",
       "      <th></th>\n",
       "    </tr>\n",
       "  </thead>\n",
       "  <tbody>\n",
       "    <tr>\n",
       "      <th rowspan=\"4\" valign=\"top\">Female</th>\n",
       "      <th>home_page</th>\n",
       "      <td>22589</td>\n",
       "      <td>22486</td>\n",
       "      <td>0.501143</td>\n",
       "      <td>0.498857</td>\n",
       "    </tr>\n",
       "    <tr>\n",
       "      <th>search_page</th>\n",
       "      <td>19470</td>\n",
       "      <td>3119</td>\n",
       "      <td>0.861924</td>\n",
       "      <td>0.138076</td>\n",
       "    </tr>\n",
       "    <tr>\n",
       "      <th>payment_page</th>\n",
       "      <td>2782</td>\n",
       "      <td>16688</td>\n",
       "      <td>0.142886</td>\n",
       "      <td>0.857114</td>\n",
       "    </tr>\n",
       "    <tr>\n",
       "      <th>payment_confirmation_page</th>\n",
       "      <td>234</td>\n",
       "      <td>2548</td>\n",
       "      <td>0.084112</td>\n",
       "      <td>0.915888</td>\n",
       "    </tr>\n",
       "    <tr>\n",
       "      <th rowspan=\"4\" valign=\"top\">Male</th>\n",
       "      <th>home_page</th>\n",
       "      <td>22611</td>\n",
       "      <td>22714</td>\n",
       "      <td>0.498864</td>\n",
       "      <td>0.501136</td>\n",
       "    </tr>\n",
       "    <tr>\n",
       "      <th>search_page</th>\n",
       "      <td>19700</td>\n",
       "      <td>2911</td>\n",
       "      <td>0.871257</td>\n",
       "      <td>0.128743</td>\n",
       "    </tr>\n",
       "    <tr>\n",
       "      <th>payment_page</th>\n",
       "      <td>2796</td>\n",
       "      <td>16904</td>\n",
       "      <td>0.141929</td>\n",
       "      <td>0.858071</td>\n",
       "    </tr>\n",
       "    <tr>\n",
       "      <th>payment_confirmation_page</th>\n",
       "      <td>218</td>\n",
       "      <td>2578</td>\n",
       "      <td>0.077969</td>\n",
       "      <td>0.922031</td>\n",
       "    </tr>\n",
       "  </tbody>\n",
       "</table>\n",
       "</div>"
      ],
      "text/plain": [
       "                                  convert_n  drop_n  conversion_rate  \\\n",
       "sex                                                                    \n",
       "Female home_page                      22589   22486         0.501143   \n",
       "       search_page                    19470    3119         0.861924   \n",
       "       payment_page                    2782   16688         0.142886   \n",
       "       payment_confirmation_page        234    2548         0.084112   \n",
       "Male   home_page                      22611   22714         0.498864   \n",
       "       search_page                    19700    2911         0.871257   \n",
       "       payment_page                    2796   16904         0.141929   \n",
       "       payment_confirmation_page        218    2578         0.077969   \n",
       "\n",
       "                                  drop_rate  \n",
       "sex                                          \n",
       "Female home_page                   0.498857  \n",
       "       search_page                 0.138076  \n",
       "       payment_page                0.857114  \n",
       "       payment_confirmation_page   0.915888  \n",
       "Male   home_page                   0.501136  \n",
       "       search_page                 0.128743  \n",
       "       payment_page                0.858071  \n",
       "       payment_confirmation_page   0.922031  "
      ]
     },
     "execution_count": 176,
     "metadata": {},
     "output_type": "execute_result"
    }
   ],
   "source": [
    "user_page_df.groupby('sex').apply(conversion_rate)"
   ]
  },
  {
   "cell_type": "code",
   "execution_count": 217,
   "metadata": {},
   "outputs": [],
   "source": [
    "#plot the conversion funnel by barplot\n",
    "def get_plot(df, var):\n",
    "    fig = plt.figure(figsize = (12,6))\n",
    "    ax = fig.add_subplot(111)\n",
    "    p = df.groupby(var)['final_page'].apply(lambda x: x.value_counts(normalize = True))\n",
    "    pp = p.unstack()\n",
    "    pp.plot(kind = 'bar', ax=ax, width = 0.9)\n",
    "    plt.title('Conversion Rate of ' + var, fontsize = 18)\n",
    "    plt.xlabel(var, fontsize = 16)\n",
    "    plt.xticks(fontsize = 16, rotation = 'vertical')\n",
    "    plt.yticks(fontsize = 15)\n",
    "    plt.ylabel('conversion_rate', fontsize = 15)\n",
    "    plt.legend(loc='center left', bbox_to_anchor=(1, 0.5), fontsize = 15)\n",
    "    for x in range(0,df.shape[0]):\n",
    "        p.text(df[var][x]+0.2, df.y[line], df.group[line], horizontalalignment='left', size='medium', color='black', weight='semibold')\n",
    "    print(pp)\n"
   ]
  },
  {
   "cell_type": "code",
   "execution_count": 218,
   "metadata": {},
   "outputs": [
    {
     "name": "stdout",
     "output_type": "stream",
     "text": [
      "         home_page  search_page  payment_page  payment_confirmation_page\n",
      "device                                                                  \n",
      "Desktop   0.500449     0.432841      0.061744                   0.004967\n",
      "Mobile    0.499106     0.434205      0.061623                   0.005066\n"
     ]
    },
    {
     "data": {
      "image/png": "[encoded data removed]",
      "text/plain": [
       "<matplotlib.figure.Figure at 0xd982350>"
      ]
     },
     "metadata": {},
     "output_type": "display_data"
    }
   ],
   "source": [
    "get_plot(user_page_df, 'device')"
   ]
  },
  {
   "cell_type": "code",
   "execution_count": 219,
   "metadata": {},
   "outputs": [
    {
     "name": "stdout",
     "output_type": "stream",
     "text": [
      "        home_page  search_page  payment_page  payment_confirmation_page\n",
      "sex                                                                    \n",
      "Female   0.501143     0.431947      0.061719                   0.005191\n",
      "Male     0.498864     0.434639      0.061688                   0.004810\n"
     ]
    },
    {
     "data": {
      "image/png": "[encoded data removed]",
      "text/plain": [
       "<matplotlib.figure.Figure at 0xd934bf0>"
      ]
     },
     "metadata": {},
     "output_type": "display_data"
    }
   ],
   "source": [
    "get_plot(user_page_df, 'sex')"
   ]
  },
  {
   "cell_type": "markdown",
   "metadata": {},
   "source": [
    "There is no too much difference between desktop and mobile, female and male.\n",
    "\n",
    "But we can see from the conversion plot, there is huge decrease between search and pay, which indicates many users DID search, but CANNOT find the item they want, so they left.\n",
    "\n",
    "### Other insights from EDA and Mining"
   ]
  },
  {
   "cell_type": "code",
   "execution_count": 220,
   "metadata": {},
   "outputs": [
    {
     "data": {
      "text/plain": [
       "Desktop    60200\n",
       "Mobile     30200\n",
       "Name: device, dtype: int64"
      ]
     },
     "execution_count": 220,
     "metadata": {},
     "output_type": "execute_result"
    }
   ],
   "source": [
    "#1. device\n",
    "user_page_df.device.value_counts()\n",
    "#Although the number of user in desktop is twice much as mobile, but the conversion \n",
    "#rate is not too different from each other"
   ]
  },
  {
   "cell_type": "code",
   "execution_count": 224,
   "metadata": {},
   "outputs": [
    {
     "data": {
      "text/plain": [
       "Male      45325\n",
       "Female    45075\n",
       "Name: sex, dtype: int64"
      ]
     },
     "execution_count": 224,
     "metadata": {},
     "output_type": "execute_result"
    }
   ],
   "source": [
    "# 2. sex\n",
    "user_page_df.sex.value_counts()\n",
    "# female and male user are almost half half, which indicates the item on this website\n",
    "#has no gender distinguishment"
   ]
  },
  {
   "cell_type": "code",
   "execution_count": 225,
   "metadata": {},
   "outputs": [
    {
     "data": {
      "text/plain": [
       "count                   90400\n",
       "unique                    120\n",
       "top       2015-02-08 00:00:00\n",
       "freq                      877\n",
       "first     2015-01-01 00:00:00\n",
       "last      2015-04-30 00:00:00\n",
       "Name: date, dtype: object"
      ]
     },
     "execution_count": 225,
     "metadata": {},
     "output_type": "execute_result"
    }
   ],
   "source": [
    "# 3.date\n",
    "user_page_df.date.describe()\n",
    "#4 month records from 2015-01-01 to 2015-04-30"
   ]
  },
  {
   "cell_type": "code",
   "execution_count": 228,
   "metadata": {},
   "outputs": [],
   "source": [
    "user_page_df['weekday'] = user_page_df.date.dt.weekday_name"
   ]
  },
  {
   "cell_type": "code",
   "execution_count": 229,
   "metadata": {},
   "outputs": [
    {
     "data": {
      "text/html": [
       "<div>\n",
       "<style scoped>\n",
       "    .dataframe tbody tr th:only-of-type {\n",
       "        vertical-align: middle;\n",
       "    }\n",
       "\n",
       "    .dataframe tbody tr th {\n",
       "        vertical-align: top;\n",
       "    }\n",
       "\n",
       "    .dataframe thead th {\n",
       "        text-align: right;\n",
       "    }\n",
       "</style>\n",
       "<table border=\"1\" class=\"dataframe\">\n",
       "  <thead>\n",
       "    <tr style=\"text-align: right;\">\n",
       "      <th></th>\n",
       "      <th>user_id</th>\n",
       "      <th>date</th>\n",
       "      <th>device</th>\n",
       "      <th>sex</th>\n",
       "      <th>final_page</th>\n",
       "      <th>weekday</th>\n",
       "    </tr>\n",
       "  </thead>\n",
       "  <tbody>\n",
       "    <tr>\n",
       "      <th>41114</th>\n",
       "      <td>503881</td>\n",
       "      <td>2015-02-05</td>\n",
       "      <td>Desktop</td>\n",
       "      <td>Female</td>\n",
       "      <td>search_page</td>\n",
       "      <td>Thursday</td>\n",
       "    </tr>\n",
       "    <tr>\n",
       "      <th>34486</th>\n",
       "      <td>42869</td>\n",
       "      <td>2015-04-03</td>\n",
       "      <td>Desktop</td>\n",
       "      <td>Male</td>\n",
       "      <td>home_page</td>\n",
       "      <td>Friday</td>\n",
       "    </tr>\n",
       "    <tr>\n",
       "      <th>49798</th>\n",
       "      <td>302482</td>\n",
       "      <td>2015-02-25</td>\n",
       "      <td>Desktop</td>\n",
       "      <td>Female</td>\n",
       "      <td>payment_page</td>\n",
       "      <td>Wednesday</td>\n",
       "    </tr>\n",
       "    <tr>\n",
       "      <th>52125</th>\n",
       "      <td>769578</td>\n",
       "      <td>2015-01-11</td>\n",
       "      <td>Desktop</td>\n",
       "      <td>Male</td>\n",
       "      <td>payment_page</td>\n",
       "      <td>Sunday</td>\n",
       "    </tr>\n",
       "    <tr>\n",
       "      <th>71159</th>\n",
       "      <td>134838</td>\n",
       "      <td>2015-01-12</td>\n",
       "      <td>Mobile</td>\n",
       "      <td>Male</td>\n",
       "      <td>home_page</td>\n",
       "      <td>Monday</td>\n",
       "    </tr>\n",
       "    <tr>\n",
       "      <th>66704</th>\n",
       "      <td>841278</td>\n",
       "      <td>2015-02-25</td>\n",
       "      <td>Mobile</td>\n",
       "      <td>Male</td>\n",
       "      <td>home_page</td>\n",
       "      <td>Wednesday</td>\n",
       "    </tr>\n",
       "    <tr>\n",
       "      <th>58735</th>\n",
       "      <td>549849</td>\n",
       "      <td>2015-04-22</td>\n",
       "      <td>Mobile</td>\n",
       "      <td>Male</td>\n",
       "      <td>search_page</td>\n",
       "      <td>Wednesday</td>\n",
       "    </tr>\n",
       "    <tr>\n",
       "      <th>19578</th>\n",
       "      <td>682210</td>\n",
       "      <td>2015-02-26</td>\n",
       "      <td>Desktop</td>\n",
       "      <td>Female</td>\n",
       "      <td>search_page</td>\n",
       "      <td>Thursday</td>\n",
       "    </tr>\n",
       "  </tbody>\n",
       "</table>\n",
       "</div>"
      ],
      "text/plain": [
       "       user_id       date   device     sex    final_page    weekday\n",
       "41114   503881 2015-02-05  Desktop  Female   search_page   Thursday\n",
       "34486    42869 2015-04-03  Desktop    Male     home_page     Friday\n",
       "49798   302482 2015-02-25  Desktop  Female  payment_page  Wednesday\n",
       "52125   769578 2015-01-11  Desktop    Male  payment_page     Sunday\n",
       "71159   134838 2015-01-12   Mobile    Male     home_page     Monday\n",
       "66704   841278 2015-02-25   Mobile    Male     home_page  Wednesday\n",
       "58735   549849 2015-04-22   Mobile    Male   search_page  Wednesday\n",
       "19578   682210 2015-02-26  Desktop  Female   search_page   Thursday"
      ]
     },
     "execution_count": 229,
     "metadata": {},
     "output_type": "execute_result"
    }
   ],
   "source": [
    "user_page_df.sample(8)"
   ]
  }
 ],
 "metadata": {
  "kernelspec": {
   "display_name": "Python 3",
   "language": "python",
   "name": "python3"
  },
  "language_info": {
   "codemirror_mode": {
    "name": "ipython",
    "version": 3
   },
   "file_extension": ".py",
   "mimetype": "text/x-python",
   "name": "python",
   "nbconvert_exporter": "python",
   "pygments_lexer": "ipython3",
   "version": "3.6.4"
  }
 },
 "nbformat": 4,
 "nbformat_minor": 2
}
